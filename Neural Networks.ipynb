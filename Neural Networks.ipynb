{
  "nbformat": 4,
  "nbformat_minor": 0,
  "metadata": {
    "colab": {
      "name": "Lab3.ipynb",
      "provenance": []
    },
    "kernelspec": {
      "name": "python3",
      "display_name": "Python 3"
    }
  },
  "cells": [
    {
      "cell_type": "code",
      "metadata": {
        "id": "mqTcvwxX_fOu",
        "colab_type": "code",
        "colab": {}
      },
      "source": [
        "# TensorFlow and tf.keras\n",
        "import tensorflow as tf\n",
        "from tensorflow import keras\n",
        "\n",
        "# Helper libraries\n",
        "import numpy as np\n",
        "import matplotlib.pyplot as plt"
      ],
      "execution_count": 82,
      "outputs": []
    },
    {
      "cell_type": "code",
      "metadata": {
        "id": "wNleA9x2_oBB",
        "colab_type": "code",
        "colab": {}
      },
      "source": [
        "fashion_mnist = keras.datasets.fashion_mnist\n",
        "\n",
        "(train_images, train_labels), (test_images, test_labels) = fashion_mnist.load_data()\n",
        "\n",
        "train_images = train_images / 255.0\n",
        "\n",
        "test_images = test_images / 255.0\n",
        "\n",
        "Accuracy = list()\n",
        "Error = list()\n",
        "Model = ['1*128 neurons','1*128 neurons,sgd','5*20 neurons','5*20 neurons,sgd' ,\n",
        "         '2*50 neurons','2*50 neurons,sgd','5*200 neurons','5*200 neurons,sgd',\n",
        "         '10*100 neurons','10*100 neurons,sgd', '5*1000 neurons','5*1000 neurons,sgd',\n",
        "         '10*500 neurons']"
      ],
      "execution_count": 83,
      "outputs": []
    },
    {
      "cell_type": "markdown",
      "metadata": {
        "id": "LVMB8KOFDhFG",
        "colab_type": "text"
      },
      "source": [
        "##Model #1 (1  Hidden Layer | 128 Neurons | Optimizer = 'adam')\n"
      ]
    },
    {
      "cell_type": "code",
      "metadata": {
        "id": "E7Ja33lPA3Tg",
        "colab_type": "code",
        "colab": {
          "base_uri": "https://localhost:8080/",
          "height": 668
        },
        "outputId": "8850f94e-9ef4-4705-f013-3b5a17c64896"
      },
      "source": [
        "model_1 = keras.Sequential([\n",
        "    keras.layers.Flatten(input_shape=(28, 28)),\n",
        "    keras.layers.Dense(128, activation='relu'),\n",
        "    keras.layers.Dense(10, activation = 'softmax')\n",
        "])\n",
        "\n",
        "model_1.summary()\n",
        "\n",
        "model_1.compile(optimizer='adam',\n",
        "              loss='SparseCategoricalCrossentropy',\n",
        "              metrics=['accuracy'])\n",
        "\n",
        "model_1.fit(train_images, train_labels, epochs=10)\n",
        "\n",
        "test_loss, test_acc = model_1.evaluate(test_images,  test_labels, verbose=2)\n",
        "\n",
        "Accuracy.append(test_acc)\n",
        "Error.append(test_loss)\n",
        "print('\\nTest accuracy:', test_acc)"
      ],
      "execution_count": 84,
      "outputs": [
        {
          "output_type": "stream",
          "text": [
            "Model: \"sequential_71\"\n",
            "_________________________________________________________________\n",
            "Layer (type)                 Output Shape              Param #   \n",
            "=================================================================\n",
            "flatten_71 (Flatten)         (None, 784)               0         \n",
            "_________________________________________________________________\n",
            "dense_425 (Dense)            (None, 128)               100480    \n",
            "_________________________________________________________________\n",
            "dense_426 (Dense)            (None, 10)                1290      \n",
            "=================================================================\n",
            "Total params: 101,770\n",
            "Trainable params: 101,770\n",
            "Non-trainable params: 0\n",
            "_________________________________________________________________\n",
            "Epoch 1/10\n",
            "1875/1875 [==============================] - 4s 2ms/step - loss: 0.4992 - accuracy: 0.8243\n",
            "Epoch 2/10\n",
            "1875/1875 [==============================] - 4s 2ms/step - loss: 0.3775 - accuracy: 0.8630\n",
            "Epoch 3/10\n",
            "1875/1875 [==============================] - 4s 2ms/step - loss: 0.3362 - accuracy: 0.8766\n",
            "Epoch 4/10\n",
            "1875/1875 [==============================] - 4s 2ms/step - loss: 0.3114 - accuracy: 0.8862\n",
            "Epoch 5/10\n",
            "1875/1875 [==============================] - 4s 2ms/step - loss: 0.2926 - accuracy: 0.8920\n",
            "Epoch 6/10\n",
            "1875/1875 [==============================] - 4s 2ms/step - loss: 0.2785 - accuracy: 0.8964\n",
            "Epoch 7/10\n",
            "1875/1875 [==============================] - 4s 2ms/step - loss: 0.2661 - accuracy: 0.9016\n",
            "Epoch 8/10\n",
            "1875/1875 [==============================] - 4s 2ms/step - loss: 0.2557 - accuracy: 0.9051\n",
            "Epoch 9/10\n",
            "1875/1875 [==============================] - 4s 2ms/step - loss: 0.2462 - accuracy: 0.9073\n",
            "Epoch 10/10\n",
            "1875/1875 [==============================] - 4s 2ms/step - loss: 0.2385 - accuracy: 0.9111\n",
            "313/313 - 0s - loss: 0.3576 - accuracy: 0.8760\n",
            "\n",
            "Test accuracy: 0.8759999871253967\n"
          ],
          "name": "stdout"
        }
      ]
    },
    {
      "cell_type": "markdown",
      "metadata": {
        "colab_type": "text",
        "id": "vzzSX2ZxedMA"
      },
      "source": [
        "##Model #1 (1  Hidden Layer | 128 Neurons | Optimizer = 'sgd')\n"
      ]
    },
    {
      "cell_type": "code",
      "metadata": {
        "colab_type": "code",
        "id": "hZ1JQvzgedMB",
        "colab": {
          "base_uri": "https://localhost:8080/",
          "height": 668
        },
        "outputId": "78646c06-b7c2-4e72-c65b-51d5c8154c3b"
      },
      "source": [
        "model_1_sgd = keras.Sequential([\n",
        "    keras.layers.Flatten(input_shape=(28, 28)),\n",
        "    keras.layers.Dense(128, activation='relu'),\n",
        "    keras.layers.Dense(10, activation = 'softmax')\n",
        "])\n",
        "\n",
        "model_1_sgd.summary()\n",
        "\n",
        "model_1_sgd.compile(optimizer='sgd',\n",
        "              loss='SparseCategoricalCrossentropy',\n",
        "              metrics=['accuracy'])\n",
        "\n",
        "model_1_sgd.fit(train_images, train_labels, epochs=10)\n",
        "\n",
        "test_loss, test_acc = model_1_sgd.evaluate(test_images,  test_labels, verbose=2)\n",
        "\n",
        "Accuracy.append(test_acc)\n",
        "Error.append(test_loss)\n",
        "\n",
        "print('\\nTest accuracy:', test_acc)"
      ],
      "execution_count": 85,
      "outputs": [
        {
          "output_type": "stream",
          "text": [
            "Model: \"sequential_72\"\n",
            "_________________________________________________________________\n",
            "Layer (type)                 Output Shape              Param #   \n",
            "=================================================================\n",
            "flatten_72 (Flatten)         (None, 784)               0         \n",
            "_________________________________________________________________\n",
            "dense_427 (Dense)            (None, 128)               100480    \n",
            "_________________________________________________________________\n",
            "dense_428 (Dense)            (None, 10)                1290      \n",
            "=================================================================\n",
            "Total params: 101,770\n",
            "Trainable params: 101,770\n",
            "Non-trainable params: 0\n",
            "_________________________________________________________________\n",
            "Epoch 1/10\n",
            "1875/1875 [==============================] - 3s 2ms/step - loss: 0.7387 - accuracy: 0.7634\n",
            "Epoch 2/10\n",
            "1875/1875 [==============================] - 3s 2ms/step - loss: 0.5128 - accuracy: 0.8275\n",
            "Epoch 3/10\n",
            "1875/1875 [==============================] - 3s 2ms/step - loss: 0.4684 - accuracy: 0.8397\n",
            "Epoch 4/10\n",
            "1875/1875 [==============================] - 3s 2ms/step - loss: 0.4437 - accuracy: 0.8476\n",
            "Epoch 5/10\n",
            "1875/1875 [==============================] - 4s 2ms/step - loss: 0.4269 - accuracy: 0.8526\n",
            "Epoch 6/10\n",
            "1875/1875 [==============================] - 4s 2ms/step - loss: 0.4134 - accuracy: 0.8577\n",
            "Epoch 7/10\n",
            "1875/1875 [==============================] - 4s 2ms/step - loss: 0.4006 - accuracy: 0.8610\n",
            "Epoch 8/10\n",
            "1875/1875 [==============================] - 4s 2ms/step - loss: 0.3904 - accuracy: 0.8652\n",
            "Epoch 9/10\n",
            "1875/1875 [==============================] - 4s 2ms/step - loss: 0.3820 - accuracy: 0.8674\n",
            "Epoch 10/10\n",
            "1875/1875 [==============================] - 4s 2ms/step - loss: 0.3736 - accuracy: 0.8713\n",
            "313/313 - 0s - loss: 0.4197 - accuracy: 0.8539\n",
            "\n",
            "Test accuracy: 0.8539000153541565\n"
          ],
          "name": "stdout"
        }
      ]
    },
    {
      "cell_type": "markdown",
      "metadata": {
        "id": "12SCIFEaD7dt",
        "colab_type": "text"
      },
      "source": [
        "##Model #2 (5  Hidden Layer | 20 Neurons | Optimizer = 'adam')"
      ]
    },
    {
      "cell_type": "code",
      "metadata": {
        "id": "HhmK9oRvEP4V",
        "colab_type": "code",
        "colab": {
          "base_uri": "https://localhost:8080/",
          "height": 809
        },
        "outputId": "660cec9d-5002-4707-9821-1041db42c834"
      },
      "source": [
        "model_2 = keras.Sequential([\n",
        "    keras.layers.Flatten(input_shape=(28, 28)),\n",
        "    keras.layers.Dense(20, activation='relu'),\n",
        "    keras.layers.Dense(20, activation= 'relu'),\n",
        "    keras.layers.Dense(20, activation='relu'),\n",
        "    keras.layers.Dense(20, activation='relu'),\n",
        "    keras.layers.Dense(20, activation='relu'),\n",
        "    keras.layers.Dense(10, activation = 'softmax')\n",
        "])\n",
        "\n",
        "model_2.summary()\n",
        "\n",
        "model_2.compile(optimizer='adam',\n",
        "              loss='SparseCategoricalCrossentropy',\n",
        "              metrics=['accuracy'])\n",
        "\n",
        "model_2.fit(train_images, train_labels, epochs=10)\n",
        "\n",
        "test_loss, test_acc = model_2.evaluate(test_images,  test_labels, verbose=2)\n",
        "\n",
        "Accuracy.append(test_acc)\n",
        "Error.append(test_loss)\n",
        "\n",
        "print('\\nTest accuracy:', test_acc)"
      ],
      "execution_count": 86,
      "outputs": [
        {
          "output_type": "stream",
          "text": [
            "Model: \"sequential_73\"\n",
            "_________________________________________________________________\n",
            "Layer (type)                 Output Shape              Param #   \n",
            "=================================================================\n",
            "flatten_73 (Flatten)         (None, 784)               0         \n",
            "_________________________________________________________________\n",
            "dense_429 (Dense)            (None, 20)                15700     \n",
            "_________________________________________________________________\n",
            "dense_430 (Dense)            (None, 20)                420       \n",
            "_________________________________________________________________\n",
            "dense_431 (Dense)            (None, 20)                420       \n",
            "_________________________________________________________________\n",
            "dense_432 (Dense)            (None, 20)                420       \n",
            "_________________________________________________________________\n",
            "dense_433 (Dense)            (None, 20)                420       \n",
            "_________________________________________________________________\n",
            "dense_434 (Dense)            (None, 10)                210       \n",
            "=================================================================\n",
            "Total params: 17,590\n",
            "Trainable params: 17,590\n",
            "Non-trainable params: 0\n",
            "_________________________________________________________________\n",
            "Epoch 1/10\n",
            "1875/1875 [==============================] - 3s 2ms/step - loss: 0.6350 - accuracy: 0.7757\n",
            "Epoch 2/10\n",
            "1875/1875 [==============================] - 3s 2ms/step - loss: 0.4551 - accuracy: 0.8361\n",
            "Epoch 3/10\n",
            "1875/1875 [==============================] - 3s 2ms/step - loss: 0.4159 - accuracy: 0.8507\n",
            "Epoch 4/10\n",
            "1875/1875 [==============================] - 3s 2ms/step - loss: 0.3849 - accuracy: 0.8612\n",
            "Epoch 5/10\n",
            "1875/1875 [==============================] - 3s 2ms/step - loss: 0.3698 - accuracy: 0.8655\n",
            "Epoch 6/10\n",
            "1875/1875 [==============================] - 3s 2ms/step - loss: 0.3592 - accuracy: 0.8699\n",
            "Epoch 7/10\n",
            "1875/1875 [==============================] - 3s 2ms/step - loss: 0.3498 - accuracy: 0.8720\n",
            "Epoch 8/10\n",
            "1875/1875 [==============================] - 3s 2ms/step - loss: 0.3414 - accuracy: 0.8763\n",
            "Epoch 9/10\n",
            "1875/1875 [==============================] - 3s 2ms/step - loss: 0.3352 - accuracy: 0.8783\n",
            "Epoch 10/10\n",
            "1875/1875 [==============================] - 3s 2ms/step - loss: 0.3281 - accuracy: 0.8801\n",
            "313/313 - 0s - loss: 0.3970 - accuracy: 0.8589\n",
            "\n",
            "Test accuracy: 0.8589000105857849\n"
          ],
          "name": "stdout"
        }
      ]
    },
    {
      "cell_type": "markdown",
      "metadata": {
        "colab_type": "text",
        "id": "OuqACX4EhD6v"
      },
      "source": [
        "##Model #2 (5  Hidden Layer | 20 Neurons | Optimizer = 'sgd')"
      ]
    },
    {
      "cell_type": "code",
      "metadata": {
        "colab_type": "code",
        "id": "gJK_Y4l_hD67",
        "colab": {
          "base_uri": "https://localhost:8080/",
          "height": 809
        },
        "outputId": "dbe54c7c-e65b-44c0-dc30-46df9f289b5e"
      },
      "source": [
        "model_2_sgd = keras.Sequential([\n",
        "    keras.layers.Flatten(input_shape=(28, 28)),\n",
        "    keras.layers.Dense(20, activation='relu'),\n",
        "    keras.layers.Dense(20, activation='relu'),\n",
        "    keras.layers.Dense(20, activation='relu'),\n",
        "    keras.layers.Dense(20, activation='relu'),\n",
        "    keras.layers.Dense(20, activation='relu'),\n",
        "    keras.layers.Dense(10, activation = 'softmax')\n",
        "])\n",
        "\n",
        "model_2_sgd.summary()\n",
        "\n",
        "model_2_sgd.compile(optimizer='sgd',\n",
        "              loss='SparseCategoricalCrossentropy',\n",
        "              metrics=['accuracy'])\n",
        "\n",
        "model_2_sgd.fit(train_images, train_labels, epochs=10)\n",
        "\n",
        "test_loss, test_acc = model_2_sgd.evaluate(test_images,  test_labels, verbose=2)\n",
        "\n",
        "Accuracy.append(test_acc)\n",
        "Error.append(test_loss)\n",
        "\n",
        "print('\\nTest accuracy:', test_acc)"
      ],
      "execution_count": 87,
      "outputs": [
        {
          "output_type": "stream",
          "text": [
            "Model: \"sequential_74\"\n",
            "_________________________________________________________________\n",
            "Layer (type)                 Output Shape              Param #   \n",
            "=================================================================\n",
            "flatten_74 (Flatten)         (None, 784)               0         \n",
            "_________________________________________________________________\n",
            "dense_435 (Dense)            (None, 20)                15700     \n",
            "_________________________________________________________________\n",
            "dense_436 (Dense)            (None, 20)                420       \n",
            "_________________________________________________________________\n",
            "dense_437 (Dense)            (None, 20)                420       \n",
            "_________________________________________________________________\n",
            "dense_438 (Dense)            (None, 20)                420       \n",
            "_________________________________________________________________\n",
            "dense_439 (Dense)            (None, 20)                420       \n",
            "_________________________________________________________________\n",
            "dense_440 (Dense)            (None, 10)                210       \n",
            "=================================================================\n",
            "Total params: 17,590\n",
            "Trainable params: 17,590\n",
            "Non-trainable params: 0\n",
            "_________________________________________________________________\n",
            "Epoch 1/10\n",
            "1875/1875 [==============================] - 3s 1ms/step - loss: 1.1065 - accuracy: 0.6126\n",
            "Epoch 2/10\n",
            "1875/1875 [==============================] - 3s 1ms/step - loss: 0.5955 - accuracy: 0.7875\n",
            "Epoch 3/10\n",
            "1875/1875 [==============================] - 3s 1ms/step - loss: 0.5109 - accuracy: 0.8184\n",
            "Epoch 4/10\n",
            "1875/1875 [==============================] - 3s 1ms/step - loss: 0.4691 - accuracy: 0.8333\n",
            "Epoch 5/10\n",
            "1875/1875 [==============================] - 3s 1ms/step - loss: 0.4405 - accuracy: 0.8422\n",
            "Epoch 6/10\n",
            "1875/1875 [==============================] - 3s 1ms/step - loss: 0.4213 - accuracy: 0.8490\n",
            "Epoch 7/10\n",
            "1875/1875 [==============================] - 3s 1ms/step - loss: 0.4066 - accuracy: 0.8543\n",
            "Epoch 8/10\n",
            "1875/1875 [==============================] - 3s 1ms/step - loss: 0.3941 - accuracy: 0.8580\n",
            "Epoch 9/10\n",
            "1875/1875 [==============================] - 3s 1ms/step - loss: 0.3855 - accuracy: 0.8602\n",
            "Epoch 10/10\n",
            "1875/1875 [==============================] - 3s 1ms/step - loss: 0.3768 - accuracy: 0.8633\n",
            "313/313 - 0s - loss: 0.4334 - accuracy: 0.8451\n",
            "\n",
            "Test accuracy: 0.8450999855995178\n"
          ],
          "name": "stdout"
        }
      ]
    },
    {
      "cell_type": "markdown",
      "metadata": {
        "colab_type": "text",
        "id": "xrXLgDINJ7xi"
      },
      "source": [
        "##Model #3 (2  Hidden Layer | 50 Neurons | Optimizer = 'adam')"
      ]
    },
    {
      "cell_type": "code",
      "metadata": {
        "colab_type": "code",
        "id": "kSzV378_MVQf",
        "colab": {
          "base_uri": "https://localhost:8080/",
          "height": 703
        },
        "outputId": "c04f8c49-8aa6-45ec-ded5-64de422c380f"
      },
      "source": [
        "model_3 = keras.Sequential([\n",
        "    keras.layers.Flatten(input_shape=(28, 28)),\n",
        "    keras.layers.Dense(50, activation='relu'),\n",
        "    keras.layers.Dense(50, activation='relu'),\n",
        "    keras.layers.Dense(10, activation = 'softmax')\n",
        "])\n",
        "\n",
        "model_3.summary()\n",
        "\n",
        "model_3.compile(optimizer='adam',\n",
        "              loss='SparseCategoricalCrossentropy',\n",
        "              metrics=['accuracy'])\n",
        "\n",
        "model_3.fit(train_images, train_labels, epochs=10)\n",
        "\n",
        "test_loss, test_acc = model_3.evaluate(test_images,  test_labels, verbose=2)\n",
        "\n",
        "Accuracy.append(test_acc)\n",
        "Error.append(test_loss)\n",
        "\n",
        "print('\\nTest accuracy:', test_acc)"
      ],
      "execution_count": 88,
      "outputs": [
        {
          "output_type": "stream",
          "text": [
            "Model: \"sequential_75\"\n",
            "_________________________________________________________________\n",
            "Layer (type)                 Output Shape              Param #   \n",
            "=================================================================\n",
            "flatten_75 (Flatten)         (None, 784)               0         \n",
            "_________________________________________________________________\n",
            "dense_441 (Dense)            (None, 50)                39250     \n",
            "_________________________________________________________________\n",
            "dense_442 (Dense)            (None, 50)                2550      \n",
            "_________________________________________________________________\n",
            "dense_443 (Dense)            (None, 10)                510       \n",
            "=================================================================\n",
            "Total params: 42,310\n",
            "Trainable params: 42,310\n",
            "Non-trainable params: 0\n",
            "_________________________________________________________________\n",
            "Epoch 1/10\n",
            "1875/1875 [==============================] - 3s 2ms/step - loss: 0.5210 - accuracy: 0.8160\n",
            "Epoch 2/10\n",
            "1875/1875 [==============================] - 3s 2ms/step - loss: 0.3892 - accuracy: 0.8593\n",
            "Epoch 3/10\n",
            "1875/1875 [==============================] - 3s 2ms/step - loss: 0.3512 - accuracy: 0.8718\n",
            "Epoch 4/10\n",
            "1875/1875 [==============================] - 3s 2ms/step - loss: 0.3290 - accuracy: 0.8785\n",
            "Epoch 5/10\n",
            "1875/1875 [==============================] - 3s 2ms/step - loss: 0.3113 - accuracy: 0.8848\n",
            "Epoch 6/10\n",
            "1875/1875 [==============================] - 3s 2ms/step - loss: 0.2999 - accuracy: 0.8880\n",
            "Epoch 7/10\n",
            "1875/1875 [==============================] - 3s 2ms/step - loss: 0.2892 - accuracy: 0.8917\n",
            "Epoch 8/10\n",
            "1875/1875 [==============================] - 3s 2ms/step - loss: 0.2780 - accuracy: 0.8962\n",
            "Epoch 9/10\n",
            "1875/1875 [==============================] - 3s 2ms/step - loss: 0.2703 - accuracy: 0.8989\n",
            "Epoch 10/10\n",
            "1875/1875 [==============================] - 3s 2ms/step - loss: 0.2621 - accuracy: 0.9022\n",
            "313/313 - 0s - loss: 0.3570 - accuracy: 0.8725\n",
            "\n",
            "Test accuracy: 0.8725000023841858\n"
          ],
          "name": "stdout"
        }
      ]
    },
    {
      "cell_type": "markdown",
      "metadata": {
        "colab_type": "text",
        "id": "wF3TMetEhxRI"
      },
      "source": [
        "##Model #3 (2  Hidden Layer | 50 Neurons | Optimizer = 'sgd')"
      ]
    },
    {
      "cell_type": "code",
      "metadata": {
        "colab_type": "code",
        "id": "ajveaG8RhxRL",
        "colab": {
          "base_uri": "https://localhost:8080/",
          "height": 703
        },
        "outputId": "5deb2cc5-85fb-43e1-e340-6eff2d94c77e"
      },
      "source": [
        "model_3_sgd = keras.Sequential([\n",
        "    keras.layers.Flatten(input_shape=(28, 28)),\n",
        "    keras.layers.Dense(50, activation= 'relu'),\n",
        "    keras.layers.Dense(50, activation='relu'),\n",
        "    keras.layers.Dense(10, activation = 'softmax')\n",
        "])\n",
        "\n",
        "model_3_sgd.summary()\n",
        "\n",
        "\n",
        "model_3_sgd.compile(optimizer='sgd',\n",
        "              loss='SparseCategoricalCrossentropy',\n",
        "              metrics=['accuracy'])\n",
        "\n",
        "model_3_sgd.fit(train_images, train_labels, epochs=10)\n",
        "\n",
        "test_loss, test_acc = model_3_sgd.evaluate(test_images,  test_labels, verbose=2)\n",
        "\n",
        "Accuracy.append(test_acc)\n",
        "Error.append(test_loss)\n",
        "\n",
        "print('\\nTest accuracy:', test_acc)"
      ],
      "execution_count": 89,
      "outputs": [
        {
          "output_type": "stream",
          "text": [
            "Model: \"sequential_76\"\n",
            "_________________________________________________________________\n",
            "Layer (type)                 Output Shape              Param #   \n",
            "=================================================================\n",
            "flatten_76 (Flatten)         (None, 784)               0         \n",
            "_________________________________________________________________\n",
            "dense_444 (Dense)            (None, 50)                39250     \n",
            "_________________________________________________________________\n",
            "dense_445 (Dense)            (None, 50)                2550      \n",
            "_________________________________________________________________\n",
            "dense_446 (Dense)            (None, 10)                510       \n",
            "=================================================================\n",
            "Total params: 42,310\n",
            "Trainable params: 42,310\n",
            "Non-trainable params: 0\n",
            "_________________________________________________________________\n",
            "Epoch 1/10\n",
            "1875/1875 [==============================] - 3s 2ms/step - loss: 0.7833 - accuracy: 0.7354\n",
            "Epoch 2/10\n",
            "1875/1875 [==============================] - 3s 2ms/step - loss: 0.5037 - accuracy: 0.8252\n",
            "Epoch 3/10\n",
            "1875/1875 [==============================] - 3s 2ms/step - loss: 0.4551 - accuracy: 0.8415\n",
            "Epoch 4/10\n",
            "1875/1875 [==============================] - 3s 2ms/step - loss: 0.4291 - accuracy: 0.8492\n",
            "Epoch 5/10\n",
            "1875/1875 [==============================] - 3s 2ms/step - loss: 0.4110 - accuracy: 0.8541\n",
            "Epoch 6/10\n",
            "1875/1875 [==============================] - 3s 2ms/step - loss: 0.3969 - accuracy: 0.8590\n",
            "Epoch 7/10\n",
            "1875/1875 [==============================] - 3s 2ms/step - loss: 0.3849 - accuracy: 0.8627\n",
            "Epoch 8/10\n",
            "1875/1875 [==============================] - 3s 2ms/step - loss: 0.3753 - accuracy: 0.8666\n",
            "Epoch 9/10\n",
            "1875/1875 [==============================] - 3s 2ms/step - loss: 0.3662 - accuracy: 0.8697\n",
            "Epoch 10/10\n",
            "1875/1875 [==============================] - 3s 2ms/step - loss: 0.3577 - accuracy: 0.8729\n",
            "313/313 - 0s - loss: 0.4026 - accuracy: 0.8586\n",
            "\n",
            "Test accuracy: 0.8586000204086304\n"
          ],
          "name": "stdout"
        }
      ]
    },
    {
      "cell_type": "markdown",
      "metadata": {
        "colab_type": "text",
        "id": "dE5PKDTfKAU1"
      },
      "source": [
        "##Model #4 (5  Hidden Layer | 200 Neurons | Optimizer = 'adam')"
      ]
    },
    {
      "cell_type": "code",
      "metadata": {
        "colab_type": "code",
        "id": "emCkdXsfQB0l",
        "colab": {
          "base_uri": "https://localhost:8080/",
          "height": 809
        },
        "outputId": "cd6bd5db-874e-498d-e1df-0f28c3f3f07d"
      },
      "source": [
        "model_4 = keras.Sequential([\n",
        "    keras.layers.Flatten(input_shape=(28, 28)),\n",
        "    keras.layers.Dense(200, activation='relu'),\n",
        "    keras.layers.Dense(200, activation='relu'),\n",
        "    keras.layers.Dense(200, activation='relu'),\n",
        "    keras.layers.Dense(200, activation='relu'),\n",
        "    keras.layers.Dense(200, activation='relu'),\n",
        "    keras.layers.Dense(10, activation = 'softmax')\n",
        "])\n",
        "\n",
        "model_4.summary()\n",
        "\n",
        "\n",
        "model_4.compile(optimizer='adam',\n",
        "              loss='SparseCategoricalCrossentropy',\n",
        "              metrics=['accuracy'])\n",
        "\n",
        "model_4.fit(train_images, train_labels, epochs=10)\n",
        "\n",
        "test_loss, test_acc = model_4.evaluate(test_images,  test_labels, verbose=2)\n",
        "\n",
        "Accuracy.append(test_acc)\n",
        "Error.append(test_loss)\n",
        "\n",
        "print('\\nTest accuracy:', test_acc)"
      ],
      "execution_count": 90,
      "outputs": [
        {
          "output_type": "stream",
          "text": [
            "Model: \"sequential_77\"\n",
            "_________________________________________________________________\n",
            "Layer (type)                 Output Shape              Param #   \n",
            "=================================================================\n",
            "flatten_77 (Flatten)         (None, 784)               0         \n",
            "_________________________________________________________________\n",
            "dense_447 (Dense)            (None, 200)               157000    \n",
            "_________________________________________________________________\n",
            "dense_448 (Dense)            (None, 200)               40200     \n",
            "_________________________________________________________________\n",
            "dense_449 (Dense)            (None, 200)               40200     \n",
            "_________________________________________________________________\n",
            "dense_450 (Dense)            (None, 200)               40200     \n",
            "_________________________________________________________________\n",
            "dense_451 (Dense)            (None, 200)               40200     \n",
            "_________________________________________________________________\n",
            "dense_452 (Dense)            (None, 10)                2010      \n",
            "=================================================================\n",
            "Total params: 319,810\n",
            "Trainable params: 319,810\n",
            "Non-trainable params: 0\n",
            "_________________________________________________________________\n",
            "Epoch 1/10\n",
            "1875/1875 [==============================] - 9s 5ms/step - loss: 0.5002 - accuracy: 0.8184\n",
            "Epoch 2/10\n",
            "1875/1875 [==============================] - 9s 5ms/step - loss: 0.3809 - accuracy: 0.8618\n",
            "Epoch 3/10\n",
            "1875/1875 [==============================] - 9s 5ms/step - loss: 0.3440 - accuracy: 0.8738\n",
            "Epoch 4/10\n",
            "1875/1875 [==============================] - 9s 5ms/step - loss: 0.3228 - accuracy: 0.8826\n",
            "Epoch 5/10\n",
            "1875/1875 [==============================] - 10s 5ms/step - loss: 0.3015 - accuracy: 0.8892\n",
            "Epoch 6/10\n",
            "1875/1875 [==============================] - 9s 5ms/step - loss: 0.2867 - accuracy: 0.8935\n",
            "Epoch 7/10\n",
            "1875/1875 [==============================] - 10s 5ms/step - loss: 0.2756 - accuracy: 0.8983\n",
            "Epoch 8/10\n",
            "1875/1875 [==============================] - 10s 5ms/step - loss: 0.2656 - accuracy: 0.9011\n",
            "Epoch 9/10\n",
            "1875/1875 [==============================] - 9s 5ms/step - loss: 0.2541 - accuracy: 0.9047\n",
            "Epoch 10/10\n",
            "1875/1875 [==============================] - 9s 5ms/step - loss: 0.2476 - accuracy: 0.9081\n",
            "313/313 - 1s - loss: 0.3407 - accuracy: 0.8829\n",
            "\n",
            "Test accuracy: 0.8828999996185303\n"
          ],
          "name": "stdout"
        }
      ]
    },
    {
      "cell_type": "markdown",
      "metadata": {
        "colab_type": "text",
        "id": "j2rZ-PpkiAOq"
      },
      "source": [
        "##Model #4 (5  Hidden Layer | 200 Neurons | Optimizer = 'sgd')"
      ]
    },
    {
      "cell_type": "code",
      "metadata": {
        "colab_type": "code",
        "id": "gK0vGFuCiAOs",
        "colab": {
          "base_uri": "https://localhost:8080/",
          "height": 809
        },
        "outputId": "366f2d0e-d647-472a-890d-713d76d08fb2"
      },
      "source": [
        "model_4_sgd = keras.Sequential([\n",
        "    keras.layers.Flatten(input_shape=(28, 28)),\n",
        "    keras.layers.Dense(200, activation='relu'),\n",
        "    keras.layers.Dense(200, activation='relu'),\n",
        "    keras.layers.Dense(200, activation='relu'),\n",
        "    keras.layers.Dense(200, activation='relu'),\n",
        "    keras.layers.Dense(200, activation='relu'),\n",
        "    keras.layers.Dense(10, activation = 'softmax')\n",
        "])\n",
        "\n",
        "model_4_sgd.summary()\n",
        "\n",
        "\n",
        "model_4_sgd.compile(optimizer='sgd',\n",
        "              loss='SparseCategoricalCrossentropy',\n",
        "              metrics=['accuracy'])\n",
        "\n",
        "model_4_sgd.fit(train_images, train_labels, epochs=10)\n",
        "\n",
        "test_loss, test_acc = model_4_sgd.evaluate(test_images,  test_labels, verbose=2)\n",
        "\n",
        "Accuracy.append(test_acc)\n",
        "Error.append(test_loss)\n",
        "\n",
        "print('\\nTest accuracy:', test_acc)"
      ],
      "execution_count": 91,
      "outputs": [
        {
          "output_type": "stream",
          "text": [
            "Model: \"sequential_78\"\n",
            "_________________________________________________________________\n",
            "Layer (type)                 Output Shape              Param #   \n",
            "=================================================================\n",
            "flatten_78 (Flatten)         (None, 784)               0         \n",
            "_________________________________________________________________\n",
            "dense_453 (Dense)            (None, 200)               157000    \n",
            "_________________________________________________________________\n",
            "dense_454 (Dense)            (None, 200)               40200     \n",
            "_________________________________________________________________\n",
            "dense_455 (Dense)            (None, 200)               40200     \n",
            "_________________________________________________________________\n",
            "dense_456 (Dense)            (None, 200)               40200     \n",
            "_________________________________________________________________\n",
            "dense_457 (Dense)            (None, 200)               40200     \n",
            "_________________________________________________________________\n",
            "dense_458 (Dense)            (None, 10)                2010      \n",
            "=================================================================\n",
            "Total params: 319,810\n",
            "Trainable params: 319,810\n",
            "Non-trainable params: 0\n",
            "_________________________________________________________________\n",
            "Epoch 1/10\n",
            "1875/1875 [==============================] - 9s 5ms/step - loss: 0.7917 - accuracy: 0.7256\n",
            "Epoch 2/10\n",
            "1875/1875 [==============================] - 8s 4ms/step - loss: 0.4770 - accuracy: 0.8304\n",
            "Epoch 3/10\n",
            "1875/1875 [==============================] - 8s 5ms/step - loss: 0.4197 - accuracy: 0.8511\n",
            "Epoch 4/10\n",
            "1875/1875 [==============================] - 7s 4ms/step - loss: 0.3872 - accuracy: 0.8607\n",
            "Epoch 5/10\n",
            "1875/1875 [==============================] - 7s 4ms/step - loss: 0.3637 - accuracy: 0.8692\n",
            "Epoch 6/10\n",
            "1875/1875 [==============================] - 7s 4ms/step - loss: 0.3445 - accuracy: 0.8740\n",
            "Epoch 7/10\n",
            "1875/1875 [==============================] - 7s 4ms/step - loss: 0.3295 - accuracy: 0.8795\n",
            "Epoch 8/10\n",
            "1875/1875 [==============================] - 7s 4ms/step - loss: 0.3180 - accuracy: 0.8826\n",
            "Epoch 9/10\n",
            "1875/1875 [==============================] - 7s 4ms/step - loss: 0.3051 - accuracy: 0.8886\n",
            "Epoch 10/10\n",
            "1875/1875 [==============================] - 8s 4ms/step - loss: 0.2977 - accuracy: 0.8887\n",
            "313/313 - 0s - loss: 0.3621 - accuracy: 0.8689\n",
            "\n",
            "Test accuracy: 0.8689000010490417\n"
          ],
          "name": "stdout"
        }
      ]
    },
    {
      "cell_type": "markdown",
      "metadata": {
        "colab_type": "text",
        "id": "JnbXrBKEKAlZ"
      },
      "source": [
        "##Model #5 (10  Hidden Layer | 100 Neurons | Optimizer = 'adam')"
      ]
    },
    {
      "cell_type": "code",
      "metadata": {
        "colab_type": "code",
        "id": "AMD_I3y8RvjV",
        "colab": {
          "base_uri": "https://localhost:8080/",
          "height": 985
        },
        "outputId": "1e40ad15-bb04-4199-eee9-0fd1c0a2896c"
      },
      "source": [
        "model_5 = keras.Sequential([\n",
        "    keras.layers.Flatten(input_shape=(28, 28)),\n",
        "    keras.layers.Dense(100, activation='relu'),\n",
        "    keras.layers.Dense(100, activation='relu'),  \n",
        "    keras.layers.Dense(100, activation='relu'),\n",
        "    keras.layers.Dense(100, activation='relu'),  \n",
        "    keras.layers.Dense(100, activation='relu'),\n",
        "    keras.layers.Dense(100, activation='relu'),  \n",
        "    keras.layers.Dense(100, activation='relu'),\n",
        "    keras.layers.Dense(100, activation='relu'),  \n",
        "    keras.layers.Dense(100, activation='relu'),\n",
        "    keras.layers.Dense(100, activation='relu'),  \n",
        "    keras.layers.Dense(10, activation = 'softmax')\n",
        "])\n",
        "\n",
        "model_5.summary()\n",
        "\n",
        "\n",
        "model_5.compile(optimizer='adam',\n",
        "              loss='SparseCategoricalCrossentropy',\n",
        "              metrics=['accuracy'])\n",
        "\n",
        "model_5.fit(train_images, train_labels, epochs=10)\n",
        "\n",
        "test_loss, test_acc = model_5.evaluate(test_images,  test_labels, verbose=2)\n",
        "\n",
        "Accuracy.append(test_acc)\n",
        "Error.append(test_loss)\n",
        "\n",
        "print('\\nTest accuracy:', test_acc)"
      ],
      "execution_count": 92,
      "outputs": [
        {
          "output_type": "stream",
          "text": [
            "Model: \"sequential_79\"\n",
            "_________________________________________________________________\n",
            "Layer (type)                 Output Shape              Param #   \n",
            "=================================================================\n",
            "flatten_79 (Flatten)         (None, 784)               0         \n",
            "_________________________________________________________________\n",
            "dense_459 (Dense)            (None, 100)               78500     \n",
            "_________________________________________________________________\n",
            "dense_460 (Dense)            (None, 100)               10100     \n",
            "_________________________________________________________________\n",
            "dense_461 (Dense)            (None, 100)               10100     \n",
            "_________________________________________________________________\n",
            "dense_462 (Dense)            (None, 100)               10100     \n",
            "_________________________________________________________________\n",
            "dense_463 (Dense)            (None, 100)               10100     \n",
            "_________________________________________________________________\n",
            "dense_464 (Dense)            (None, 100)               10100     \n",
            "_________________________________________________________________\n",
            "dense_465 (Dense)            (None, 100)               10100     \n",
            "_________________________________________________________________\n",
            "dense_466 (Dense)            (None, 100)               10100     \n",
            "_________________________________________________________________\n",
            "dense_467 (Dense)            (None, 100)               10100     \n",
            "_________________________________________________________________\n",
            "dense_468 (Dense)            (None, 100)               10100     \n",
            "_________________________________________________________________\n",
            "dense_469 (Dense)            (None, 10)                1010      \n",
            "=================================================================\n",
            "Total params: 170,410\n",
            "Trainable params: 170,410\n",
            "Non-trainable params: 0\n",
            "_________________________________________________________________\n",
            "Epoch 1/10\n",
            "1875/1875 [==============================] - 9s 5ms/step - loss: 0.5931 - accuracy: 0.7811\n",
            "Epoch 2/10\n",
            "1875/1875 [==============================] - 9s 5ms/step - loss: 0.4171 - accuracy: 0.8521\n",
            "Epoch 3/10\n",
            "1875/1875 [==============================] - 8s 4ms/step - loss: 0.3783 - accuracy: 0.8643\n",
            "Epoch 4/10\n",
            "1875/1875 [==============================] - 8s 4ms/step - loss: 0.3541 - accuracy: 0.8728\n",
            "Epoch 5/10\n",
            "1875/1875 [==============================] - 9s 5ms/step - loss: 0.3363 - accuracy: 0.8804\n",
            "Epoch 6/10\n",
            "1875/1875 [==============================] - 8s 4ms/step - loss: 0.3246 - accuracy: 0.8839\n",
            "Epoch 7/10\n",
            "1875/1875 [==============================] - 8s 4ms/step - loss: 0.3142 - accuracy: 0.8877\n",
            "Epoch 8/10\n",
            "1875/1875 [==============================] - 8s 4ms/step - loss: 0.3048 - accuracy: 0.8902\n",
            "Epoch 9/10\n",
            "1875/1875 [==============================] - 8s 4ms/step - loss: 0.2939 - accuracy: 0.8932\n",
            "Epoch 10/10\n",
            "1875/1875 [==============================] - 8s 4ms/step - loss: 0.2872 - accuracy: 0.8959\n",
            "313/313 - 0s - loss: 0.3599 - accuracy: 0.8771\n",
            "\n",
            "Test accuracy: 0.8770999908447266\n"
          ],
          "name": "stdout"
        }
      ]
    },
    {
      "cell_type": "markdown",
      "metadata": {
        "colab_type": "text",
        "id": "yVKT8DKpiIU9"
      },
      "source": [
        "##Model #5 (10  Hidden Layer | 100 Neurons | Optimizer = 'sgd')"
      ]
    },
    {
      "cell_type": "code",
      "metadata": {
        "colab_type": "code",
        "id": "R1RQr0nGiIU_",
        "colab": {
          "base_uri": "https://localhost:8080/",
          "height": 985
        },
        "outputId": "e0b8afe2-0b74-461f-e2cf-806151bb43a0"
      },
      "source": [
        "model_5_sgd = keras.Sequential([\n",
        "    keras.layers.Flatten(input_shape=(28, 28)),\n",
        "    keras.layers.Dense(100, activation='relu'),\n",
        "    keras.layers.Dense(100, activation='relu'),    \n",
        "    keras.layers.Dense(100, activation='relu'),\n",
        "    keras.layers.Dense(100, activation='relu'),\n",
        "    keras.layers.Dense(100, activation='relu'),\n",
        "    keras.layers.Dense(100, activation='relu'),\n",
        "    keras.layers.Dense(100, activation='relu'),    \n",
        "    keras.layers.Dense(100, activation='relu'),\n",
        "    keras.layers.Dense(100, activation='relu'),\n",
        "    keras.layers.Dense(100, activation='relu'),\n",
        "    keras.layers.Dense(10, activation = 'softmax')\n",
        "])\n",
        "\n",
        "model_5_sgd.summary()\n",
        "\n",
        "model_5_sgd.compile(optimizer='sgd',\n",
        "              loss='SparseCategoricalCrossentropy',\n",
        "              metrics=['accuracy'])\n",
        "\n",
        "model_5_sgd.fit(train_images, train_labels, epochs=10)\n",
        "\n",
        "test_loss, test_acc = model_5_sgd.evaluate(test_images,  test_labels, verbose=2)\n",
        "\n",
        "Accuracy.append(test_acc)\n",
        "Error.append(test_loss)\n",
        "\n",
        "print('\\nTest accuracy:', test_acc)"
      ],
      "execution_count": 93,
      "outputs": [
        {
          "output_type": "stream",
          "text": [
            "Model: \"sequential_80\"\n",
            "_________________________________________________________________\n",
            "Layer (type)                 Output Shape              Param #   \n",
            "=================================================================\n",
            "flatten_80 (Flatten)         (None, 784)               0         \n",
            "_________________________________________________________________\n",
            "dense_470 (Dense)            (None, 100)               78500     \n",
            "_________________________________________________________________\n",
            "dense_471 (Dense)            (None, 100)               10100     \n",
            "_________________________________________________________________\n",
            "dense_472 (Dense)            (None, 100)               10100     \n",
            "_________________________________________________________________\n",
            "dense_473 (Dense)            (None, 100)               10100     \n",
            "_________________________________________________________________\n",
            "dense_474 (Dense)            (None, 100)               10100     \n",
            "_________________________________________________________________\n",
            "dense_475 (Dense)            (None, 100)               10100     \n",
            "_________________________________________________________________\n",
            "dense_476 (Dense)            (None, 100)               10100     \n",
            "_________________________________________________________________\n",
            "dense_477 (Dense)            (None, 100)               10100     \n",
            "_________________________________________________________________\n",
            "dense_478 (Dense)            (None, 100)               10100     \n",
            "_________________________________________________________________\n",
            "dense_479 (Dense)            (None, 100)               10100     \n",
            "_________________________________________________________________\n",
            "dense_480 (Dense)            (None, 10)                1010      \n",
            "=================================================================\n",
            "Total params: 170,410\n",
            "Trainable params: 170,410\n",
            "Non-trainable params: 0\n",
            "_________________________________________________________________\n",
            "Epoch 1/10\n",
            "1875/1875 [==============================] - 5s 3ms/step - loss: 1.1369 - accuracy: 0.5666\n",
            "Epoch 2/10\n",
            "1875/1875 [==============================] - 5s 3ms/step - loss: 0.5439 - accuracy: 0.8009\n",
            "Epoch 3/10\n",
            "1875/1875 [==============================] - 5s 3ms/step - loss: 0.4533 - accuracy: 0.8357\n",
            "Epoch 4/10\n",
            "1875/1875 [==============================] - 5s 3ms/step - loss: 0.4096 - accuracy: 0.8500\n",
            "Epoch 5/10\n",
            "1875/1875 [==============================] - 5s 3ms/step - loss: 0.3800 - accuracy: 0.8623\n",
            "Epoch 6/10\n",
            "1875/1875 [==============================] - 5s 3ms/step - loss: 0.3595 - accuracy: 0.8695\n",
            "Epoch 7/10\n",
            "1875/1875 [==============================] - 5s 3ms/step - loss: 0.3435 - accuracy: 0.8729\n",
            "Epoch 8/10\n",
            "1875/1875 [==============================] - 5s 3ms/step - loss: 0.3276 - accuracy: 0.8792\n",
            "Epoch 9/10\n",
            "1875/1875 [==============================] - 5s 3ms/step - loss: 0.3160 - accuracy: 0.8836\n",
            "Epoch 10/10\n",
            "1875/1875 [==============================] - 5s 3ms/step - loss: 0.3060 - accuracy: 0.8867\n",
            "313/313 - 0s - loss: 0.3723 - accuracy: 0.8613\n",
            "\n",
            "Test accuracy: 0.861299991607666\n"
          ],
          "name": "stdout"
        }
      ]
    },
    {
      "cell_type": "markdown",
      "metadata": {
        "colab_type": "text",
        "id": "0GrdoQA6K84J"
      },
      "source": [
        "##Model #6 (5  Hidden Layer | 1000 Neurons | Optimizer = 'adam')"
      ]
    },
    {
      "cell_type": "code",
      "metadata": {
        "colab_type": "code",
        "id": "h9fC8wCQUt_p",
        "colab": {
          "base_uri": "https://localhost:8080/",
          "height": 809
        },
        "outputId": "c5c82b31-782c-41bf-ff96-472fbd10a790"
      },
      "source": [
        "model_6 = keras.Sequential([\n",
        "    keras.layers.Flatten(input_shape=(28, 28)),\n",
        "    keras.layers.Dense(1000, activation='relu'),\n",
        "    keras.layers.Dense(1000, activation='relu'),\n",
        "    keras.layers.Dense(1000, activation='relu'),\n",
        "     keras.layers.Dense(1000, activation='relu'),\n",
        "    keras.layers.Dense(1000, activation='relu'),            \n",
        "    keras.layers.Dense(10, activation = 'softmax')\n",
        "])\n",
        "\n",
        "model_6.summary()\n",
        "\n",
        "model_6.compile(optimizer='adam',\n",
        "              loss='SparseCategoricalCrossentropy',\n",
        "              metrics=['accuracy'])\n",
        "\n",
        "model_6.fit(train_images, train_labels, epochs=10)\n",
        "\n",
        "test_loss, test_acc = model_6.evaluate(test_images,  test_labels, verbose=2)\n",
        "\n",
        "Accuracy.append(test_acc)\n",
        "Error.append(test_loss)\n",
        "\n",
        "print('\\nTest accuracy:', test_acc)"
      ],
      "execution_count": 94,
      "outputs": [
        {
          "output_type": "stream",
          "text": [
            "Model: \"sequential_81\"\n",
            "_________________________________________________________________\n",
            "Layer (type)                 Output Shape              Param #   \n",
            "=================================================================\n",
            "flatten_81 (Flatten)         (None, 784)               0         \n",
            "_________________________________________________________________\n",
            "dense_481 (Dense)            (None, 1000)              785000    \n",
            "_________________________________________________________________\n",
            "dense_482 (Dense)            (None, 1000)              1001000   \n",
            "_________________________________________________________________\n",
            "dense_483 (Dense)            (None, 1000)              1001000   \n",
            "_________________________________________________________________\n",
            "dense_484 (Dense)            (None, 1000)              1001000   \n",
            "_________________________________________________________________\n",
            "dense_485 (Dense)            (None, 1000)              1001000   \n",
            "_________________________________________________________________\n",
            "dense_486 (Dense)            (None, 10)                10010     \n",
            "=================================================================\n",
            "Total params: 4,799,010\n",
            "Trainable params: 4,799,010\n",
            "Non-trainable params: 0\n",
            "_________________________________________________________________\n",
            "Epoch 1/10\n",
            "1875/1875 [==============================] - 103s 55ms/step - loss: 0.5422 - accuracy: 0.8066\n",
            "Epoch 2/10\n",
            "1875/1875 [==============================] - 107s 57ms/step - loss: 0.4091 - accuracy: 0.8526\n",
            "Epoch 3/10\n",
            "1875/1875 [==============================] - 102s 55ms/step - loss: 0.3636 - accuracy: 0.8698\n",
            "Epoch 4/10\n",
            "1875/1875 [==============================] - 104s 55ms/step - loss: 0.3388 - accuracy: 0.8772\n",
            "Epoch 5/10\n",
            "1875/1875 [==============================] - 111s 59ms/step - loss: 0.3158 - accuracy: 0.8854\n",
            "Epoch 6/10\n",
            "1875/1875 [==============================] - 109s 58ms/step - loss: 0.2993 - accuracy: 0.8912\n",
            "Epoch 7/10\n",
            "1875/1875 [==============================] - 104s 55ms/step - loss: 0.2908 - accuracy: 0.8958\n",
            "Epoch 8/10\n",
            "1875/1875 [==============================] - 103s 55ms/step - loss: 0.2776 - accuracy: 0.8994\n",
            "Epoch 9/10\n",
            "1875/1875 [==============================] - 98s 52ms/step - loss: 0.2668 - accuracy: 0.9020\n",
            "Epoch 10/10\n",
            "1875/1875 [==============================] - 97s 52ms/step - loss: 0.2644 - accuracy: 0.9040\n",
            "313/313 - 3s - loss: 0.3640 - accuracy: 0.8783\n",
            "\n",
            "Test accuracy: 0.8783000111579895\n"
          ],
          "name": "stdout"
        }
      ]
    },
    {
      "cell_type": "markdown",
      "metadata": {
        "colab_type": "text",
        "id": "8kuJIivSiQi7"
      },
      "source": [
        "##Model #6 (5  Hidden Layer | 1000 Neurons | Optimizer = 'sgd')"
      ]
    },
    {
      "cell_type": "code",
      "metadata": {
        "colab_type": "code",
        "id": "gnkTHBMRiQi9",
        "colab": {
          "base_uri": "https://localhost:8080/",
          "height": 809
        },
        "outputId": "67c6d56e-bfb2-4a34-f1f6-574d7aa5798c"
      },
      "source": [
        "model_6_sgd = keras.Sequential([\n",
        "    keras.layers.Flatten(input_shape=(28, 28)),\n",
        "    keras.layers.Dense(1000, activation='relu'),\n",
        "    keras.layers.Dense(1000, activation='relu'),\n",
        "    keras.layers.Dense(1000, activation='relu'),\n",
        "    keras.layers.Dense(1000, activation='relu'),\n",
        "    keras.layers.Dense(1000, activation='relu'),\n",
        "    keras.layers.Dense(10, activation = 'softmax')\n",
        "])\n",
        "\n",
        "model_6_sgd.summary()\n",
        "\n",
        "\n",
        "model_6_sgd.compile(optimizer='sgd',\n",
        "              loss='SparseCategoricalCrossentropy',\n",
        "              metrics=['accuracy'])\n",
        "\n",
        "model_6_sgd.fit(train_images, train_labels, epochs=10)\n",
        "\n",
        "test_loss, test_acc = model_6_sgd.evaluate(test_images,  test_labels, verbose=2)\n",
        "\n",
        "Accuracy.append(test_acc)\n",
        "Error.append(test_loss)\n",
        "\n",
        "print('\\nTest accuracy:', test_acc)"
      ],
      "execution_count": 95,
      "outputs": [
        {
          "output_type": "stream",
          "text": [
            "Model: \"sequential_82\"\n",
            "_________________________________________________________________\n",
            "Layer (type)                 Output Shape              Param #   \n",
            "=================================================================\n",
            "flatten_82 (Flatten)         (None, 784)               0         \n",
            "_________________________________________________________________\n",
            "dense_487 (Dense)            (None, 1000)              785000    \n",
            "_________________________________________________________________\n",
            "dense_488 (Dense)            (None, 1000)              1001000   \n",
            "_________________________________________________________________\n",
            "dense_489 (Dense)            (None, 1000)              1001000   \n",
            "_________________________________________________________________\n",
            "dense_490 (Dense)            (None, 1000)              1001000   \n",
            "_________________________________________________________________\n",
            "dense_491 (Dense)            (None, 1000)              1001000   \n",
            "_________________________________________________________________\n",
            "dense_492 (Dense)            (None, 10)                10010     \n",
            "=================================================================\n",
            "Total params: 4,799,010\n",
            "Trainable params: 4,799,010\n",
            "Non-trainable params: 0\n",
            "_________________________________________________________________\n",
            "Epoch 1/10\n",
            "1875/1875 [==============================] - 95s 51ms/step - loss: 0.6993 - accuracy: 0.7638\n",
            "Epoch 2/10\n",
            "1875/1875 [==============================] - 95s 51ms/step - loss: 0.4409 - accuracy: 0.8436\n",
            "Epoch 3/10\n",
            "1875/1875 [==============================] - 87s 46ms/step - loss: 0.3882 - accuracy: 0.8611\n",
            "Epoch 4/10\n",
            "1875/1875 [==============================] - 89s 47ms/step - loss: 0.3566 - accuracy: 0.8712\n",
            "Epoch 5/10\n",
            "1875/1875 [==============================] - 90s 48ms/step - loss: 0.3339 - accuracy: 0.8784\n",
            "Epoch 6/10\n",
            "1875/1875 [==============================] - 91s 49ms/step - loss: 0.3155 - accuracy: 0.8842\n",
            "Epoch 7/10\n",
            "1875/1875 [==============================] - 95s 51ms/step - loss: 0.2986 - accuracy: 0.8906\n",
            "Epoch 8/10\n",
            "1875/1875 [==============================] - 90s 48ms/step - loss: 0.2857 - accuracy: 0.8947\n",
            "Epoch 9/10\n",
            "1875/1875 [==============================] - 88s 47ms/step - loss: 0.2720 - accuracy: 0.8996\n",
            "Epoch 10/10\n",
            "1875/1875 [==============================] - 88s 47ms/step - loss: 0.2608 - accuracy: 0.9037\n",
            "313/313 - 4s - loss: 0.3449 - accuracy: 0.8739\n",
            "\n",
            "Test accuracy: 0.8738999962806702\n"
          ],
          "name": "stdout"
        }
      ]
    },
    {
      "cell_type": "markdown",
      "metadata": {
        "colab_type": "text",
        "id": "b78OUq_JLEoW"
      },
      "source": [
        "##Model #7 (10  Hidden Layer | 500 Neurons | Optimizer = 'adam')"
      ]
    },
    {
      "cell_type": "code",
      "metadata": {
        "colab_type": "code",
        "id": "nvm8eunWYdM4",
        "colab": {
          "base_uri": "https://localhost:8080/",
          "height": 985
        },
        "outputId": "fb5b6d6d-4a17-4eca-b32b-0ac44954f582"
      },
      "source": [
        "model_7 = keras.Sequential([\n",
        "    keras.layers.Flatten(input_shape=(28, 28)),\n",
        "    keras.layers.Dense(500, activation= 'relu'),\n",
        "    keras.layers.Dense(500, activation= 'relu'),\n",
        "    keras.layers.Dense(500, activation= 'relu'),\n",
        "    keras.layers.Dense(500, activation= 'relu'),\n",
        "    keras.layers.Dense(500, activation= 'relu'),\n",
        "    keras.layers.Dense(500, activation= 'relu'),\n",
        "    keras.layers.Dense(500, activation= 'relu'),\n",
        "    keras.layers.Dense(500, activation= 'relu'),\n",
        "    keras.layers.Dense(500, activation= 'relu'),\n",
        "    keras.layers.Dense(500, activation= 'relu'),    \n",
        "    keras.layers.Dense(10, activation = 'softmax')\n",
        "])\n",
        "\n",
        "model_7.summary()\n",
        "\n",
        "\n",
        "model_7.compile(optimizer='adam',\n",
        "              loss='SparseCategoricalCrossentropy',\n",
        "              metrics=['accuracy'])\n",
        "\n",
        "model_7.fit(train_images, train_labels, epochs=10)\n",
        "\n",
        "test_loss, test_acc = model_7.evaluate(test_images,  test_labels, verbose=2)\n",
        "\n",
        "Accuracy.append(test_acc)\n",
        "Error.append(test_loss)\n",
        "\n",
        "print('\\nTest accuracy:', test_acc)"
      ],
      "execution_count": 96,
      "outputs": [
        {
          "output_type": "stream",
          "text": [
            "Model: \"sequential_83\"\n",
            "_________________________________________________________________\n",
            "Layer (type)                 Output Shape              Param #   \n",
            "=================================================================\n",
            "flatten_83 (Flatten)         (None, 784)               0         \n",
            "_________________________________________________________________\n",
            "dense_493 (Dense)            (None, 500)               392500    \n",
            "_________________________________________________________________\n",
            "dense_494 (Dense)            (None, 500)               250500    \n",
            "_________________________________________________________________\n",
            "dense_495 (Dense)            (None, 500)               250500    \n",
            "_________________________________________________________________\n",
            "dense_496 (Dense)            (None, 500)               250500    \n",
            "_________________________________________________________________\n",
            "dense_497 (Dense)            (None, 500)               250500    \n",
            "_________________________________________________________________\n",
            "dense_498 (Dense)            (None, 500)               250500    \n",
            "_________________________________________________________________\n",
            "dense_499 (Dense)            (None, 500)               250500    \n",
            "_________________________________________________________________\n",
            "dense_500 (Dense)            (None, 500)               250500    \n",
            "_________________________________________________________________\n",
            "dense_501 (Dense)            (None, 500)               250500    \n",
            "_________________________________________________________________\n",
            "dense_502 (Dense)            (None, 500)               250500    \n",
            "_________________________________________________________________\n",
            "dense_503 (Dense)            (None, 10)                5010      \n",
            "=================================================================\n",
            "Total params: 2,652,010\n",
            "Trainable params: 2,652,010\n",
            "Non-trainable params: 0\n",
            "_________________________________________________________________\n",
            "Epoch 1/10\n",
            "1875/1875 [==============================] - 62s 33ms/step - loss: 0.7151 - accuracy: 0.7114\n",
            "Epoch 2/10\n",
            "1875/1875 [==============================] - 62s 33ms/step - loss: 0.5194 - accuracy: 0.8135\n",
            "Epoch 3/10\n",
            "1875/1875 [==============================] - 61s 32ms/step - loss: 0.4571 - accuracy: 0.8453\n",
            "Epoch 4/10\n",
            "1875/1875 [==============================] - 62s 33ms/step - loss: 0.4266 - accuracy: 0.8540\n",
            "Epoch 5/10\n",
            "1875/1875 [==============================] - 65s 35ms/step - loss: 0.3787 - accuracy: 0.8673\n",
            "Epoch 6/10\n",
            "1875/1875 [==============================] - 62s 33ms/step - loss: 0.3759 - accuracy: 0.8678\n",
            "Epoch 7/10\n",
            "1875/1875 [==============================] - 64s 34ms/step - loss: 0.3495 - accuracy: 0.8759\n",
            "Epoch 8/10\n",
            "1875/1875 [==============================] - 62s 33ms/step - loss: 0.3594 - accuracy: 0.8754\n",
            "Epoch 9/10\n",
            "1875/1875 [==============================] - 59s 31ms/step - loss: 0.3352 - accuracy: 0.8813\n",
            "Epoch 10/10\n",
            "1875/1875 [==============================] - 58s 31ms/step - loss: 0.3253 - accuracy: 0.8860\n",
            "313/313 - 2s - loss: 0.3874 - accuracy: 0.8669\n",
            "\n",
            "Test accuracy: 0.8669000267982483\n"
          ],
          "name": "stdout"
        }
      ]
    },
    {
      "cell_type": "markdown",
      "metadata": {
        "colab_type": "text",
        "id": "0fquLVGRijC2"
      },
      "source": [
        "##Model #7 (10  Hidden Layer | 500 Neurons | Optimizer = 'sgd')"
      ]
    },
    {
      "cell_type": "code",
      "metadata": {
        "colab_type": "code",
        "id": "v5rFFhNTijC3",
        "colab": {
          "base_uri": "https://localhost:8080/",
          "height": 985
        },
        "outputId": "e42f831f-d812-4e06-eec5-8cb7539ffac3"
      },
      "source": [
        "model_7_sgd = keras.Sequential([\n",
        "    keras.layers.Flatten(input_shape=(28, 28)),\n",
        "    keras.layers.Dense(500, activation= 'relu'),\n",
        "    keras.layers.Dense(500, activation= 'relu'),\n",
        "    keras.layers.Dense(500, activation= 'relu'),\n",
        "    keras.layers.Dense(500, activation= 'relu'),\n",
        "    keras.layers.Dense(500, activation= 'relu'),\n",
        "    keras.layers.Dense(500, activation= 'relu'),\n",
        "    keras.layers.Dense(500, activation= 'relu'),\n",
        "    keras.layers.Dense(500, activation= 'relu'),\n",
        "    keras.layers.Dense(500, activation= 'relu'),\n",
        "    keras.layers.Dense(500, activation= 'relu'),    \n",
        "    keras.layers.Dense(10, activation = 'softmax')\n",
        "])\n",
        "\n",
        "model_7_sgd.summary()\n",
        "\n",
        "model_7_sgd.compile(optimizer='sgd',\n",
        "              loss='SparseCategoricalCrossentropy',\n",
        "              metrics=['accuracy'])\n",
        "\n",
        "model_7_sgd.fit(train_images, train_labels, epochs=10)\n",
        "\n",
        "test_loss, test_acc = model_7_sgd.evaluate(test_images,  test_labels, verbose=2)\n",
        "\n",
        "Accuracy.append(test_acc)\n",
        "Error.append(test_loss)\n",
        "\n",
        "print('\\nTest accuracy:', test_acc)"
      ],
      "execution_count": 97,
      "outputs": [
        {
          "output_type": "stream",
          "text": [
            "Model: \"sequential_84\"\n",
            "_________________________________________________________________\n",
            "Layer (type)                 Output Shape              Param #   \n",
            "=================================================================\n",
            "flatten_84 (Flatten)         (None, 784)               0         \n",
            "_________________________________________________________________\n",
            "dense_504 (Dense)            (None, 500)               392500    \n",
            "_________________________________________________________________\n",
            "dense_505 (Dense)            (None, 500)               250500    \n",
            "_________________________________________________________________\n",
            "dense_506 (Dense)            (None, 500)               250500    \n",
            "_________________________________________________________________\n",
            "dense_507 (Dense)            (None, 500)               250500    \n",
            "_________________________________________________________________\n",
            "dense_508 (Dense)            (None, 500)               250500    \n",
            "_________________________________________________________________\n",
            "dense_509 (Dense)            (None, 500)               250500    \n",
            "_________________________________________________________________\n",
            "dense_510 (Dense)            (None, 500)               250500    \n",
            "_________________________________________________________________\n",
            "dense_511 (Dense)            (None, 500)               250500    \n",
            "_________________________________________________________________\n",
            "dense_512 (Dense)            (None, 500)               250500    \n",
            "_________________________________________________________________\n",
            "dense_513 (Dense)            (None, 500)               250500    \n",
            "_________________________________________________________________\n",
            "dense_514 (Dense)            (None, 10)                5010      \n",
            "=================================================================\n",
            "Total params: 2,652,010\n",
            "Trainable params: 2,652,010\n",
            "Non-trainable params: 0\n",
            "_________________________________________________________________\n",
            "Epoch 1/10\n",
            "1875/1875 [==============================] - 54s 29ms/step - loss: 0.9691 - accuracy: 0.6538\n",
            "Epoch 2/10\n",
            "1875/1875 [==============================] - 54s 29ms/step - loss: 0.4728 - accuracy: 0.8319\n",
            "Epoch 3/10\n",
            "1875/1875 [==============================] - 58s 31ms/step - loss: 0.3968 - accuracy: 0.8558\n",
            "Epoch 4/10\n",
            "1875/1875 [==============================] - 57s 30ms/step - loss: 0.3585 - accuracy: 0.8716\n",
            "Epoch 5/10\n",
            "1875/1875 [==============================] - 59s 32ms/step - loss: 0.3346 - accuracy: 0.8778\n",
            "Epoch 6/10\n",
            "1875/1875 [==============================] - 56s 30ms/step - loss: 0.3136 - accuracy: 0.8841\n",
            "Epoch 7/10\n",
            "1875/1875 [==============================] - 57s 30ms/step - loss: 0.2970 - accuracy: 0.8899\n",
            "Epoch 8/10\n",
            "1875/1875 [==============================] - 55s 29ms/step - loss: 0.2821 - accuracy: 0.8955\n",
            "Epoch 9/10\n",
            "1875/1875 [==============================] - 55s 29ms/step - loss: 0.2679 - accuracy: 0.9003\n",
            "Epoch 10/10\n",
            "1875/1875 [==============================] - 53s 28ms/step - loss: 0.2567 - accuracy: 0.9046\n",
            "313/313 - 3s - loss: 0.3899 - accuracy: 0.8517\n",
            "\n",
            "Test accuracy: 0.8517000079154968\n"
          ],
          "name": "stdout"
        }
      ]
    }
  ]
}